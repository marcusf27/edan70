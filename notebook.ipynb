{
 "cells": [
  {
   "cell_type": "code",
   "execution_count": 234,
   "metadata": {},
   "outputs": [],
   "source": [
    "from requests_html import AsyncHTMLSession, HTMLSession\n",
    "from bs4 import BeautifulSoup\n",
    "import asyncio\n",
    "import logging\n",
    "import json\n",
    "import time\n",
    "import re\n",
    "\n",
    "logging.disable(logging.WARNING)"
   ]
  },
  {
   "cell_type": "code",
   "execution_count": 235,
   "metadata": {},
   "outputs": [],
   "source": [
    "def debug_print(message, debug=True):\n",
    "    \n",
    "    if debug:\n",
    "        print(message)\n",
    "\n",
    "def convert_keys_to_int(json_dict):\n",
    "    \n",
    "    return { (int(key) if key.isdigit() else key): value for key, value in json_dict.items() }\n",
    "\n",
    "def load_json(path, edition=None, articles=None):\n",
    "    \n",
    "    try:\n",
    "        with open(path + '.json', 'r', encoding='utf-8') as file:\n",
    "            return json.load(file, object_hook=convert_keys_to_int)\n",
    "\n",
    "    except (FileNotFoundError, json.JSONDecodeError):\n",
    "        with open(path + '.json', 'w', encoding='utf-8') as file:\n",
    "            json.dump({ }, file, ensure_ascii=False, indent=4)\n",
    "        return { }\n",
    "\n",
    "def save_json(path, entries, edition=None, reset=False):\n",
    "    \n",
    "    temp_entries = entries   \n",
    "    entries = ({ edition: { } } if edition else { }) if reset else load_json(path)\n",
    "\n",
    "    (entries[edition] if edition else entries).update(temp_entries)\n",
    "    \n",
    "    try:\n",
    "        with open(path + '.json', 'w', encoding='utf-8') as file:\n",
    "            json.dump(entries, file, ensure_ascii=False, indent=4)\n",
    "\n",
    "    except:\n",
    "        pass\n",
    "        \n",
    "def find_missing_articles(edition, articles, path):\n",
    "\n",
    "    return articles - load_json(path).get(edition, { }).keys()"
   ]
  },
  {
   "cell_type": "code",
   "execution_count": 236,
   "metadata": {},
   "outputs": [],
   "source": [
    "async def fetch_article(\n",
    "    edition, article, session=AsyncHTMLSession(), semaphore=asyncio.Semaphore(), max_tries=5, debug=False):\n",
    "    \n",
    "    url = f'https://nordiskfamiljebok.dh.gu.se/article/{edition}/{article}'\n",
    "    \n",
    "    async with semaphore:\n",
    "\n",
    "        debug_print(f\"Fetching {'1st' if article == 1 else f'{article}nd'} article from {'1st' if edition == 1 else f'{edition}nd'} edition\", debug)\n",
    "        \n",
    "        for n in range(1, max_tries + 1):\n",
    "            try:\n",
    "                response = await session.get(url)\n",
    "                await response.html.arender(timeout=5*n, sleep=5*n)\n",
    "                \n",
    "                debug_print(f\"Successfully fetched article {article}, {'1st' if edition == 1 else f'{edition}nd'} edition\", debug)\n",
    "                \n",
    "                return response.html\n",
    "                \n",
    "            except:\n",
    "                debug_print(f\"Failed to fetch article {article}, {'1st' if edition == 1 else f'{edition}nd'} edition.\\nRetrying with larger timeout...\", debug)\n",
    "    \n",
    "    debug_print(f\"Failed to fetch article {article}, {'1st' if edition == 1 else f'{edition}nd'} edition\", debug)\n",
    "     \n",
    "    return None\n",
    "\n",
    "async def fetch_articles(\n",
    "    edition, articles, path='articles', force_fetch=False,\n",
    "    max_concurrent_tasks=5, max_tries=5, debug=False):\n",
    "    \n",
    "    if not force_fetch:\n",
    "        articles = find_missing_articles(edition, articles, path)\n",
    "\n",
    "    session = AsyncHTMLSession()\n",
    "    semaphore = asyncio.Semaphore(max_concurrent_tasks)\n",
    "    \n",
    "    async with asyncio.TaskGroup() as task_group:\n",
    "        tasks = [\n",
    "            task_group.create_task(\n",
    "                fetch_article(edition, article, session, semaphore, max_tries, debug))\n",
    "            for article in articles\n",
    "        ]\n",
    "\n",
    "    entries = { edition: { } }\n",
    "    \n",
    "    for (task, article) in zip(tasks, articles):\n",
    "        \n",
    "        try:\n",
    "            html = task.result().html \n",
    "            soup = BeautifulSoup(html, \"html.parser\")\n",
    "\n",
    "            entries[edition][article] = {\n",
    "                'html': html,\n",
    "                'title': soup.find('h1', {'data-v-5ad7308b': True}).decode_contents(),\n",
    "                'text': soup.find('article', {'data-v-5ad7308b': True}).decode_contents()\n",
    "                }\n",
    "        except:\n",
    "            pass\n",
    "\n",
    "    return entries\n",
    "\n",
    "async def load_articles(\n",
    "    edition, articles, path='articles', force_fetch=False,\n",
    "    max_concurrent_tasks=5, sort=False, max_tries=5, debug=False):\n",
    "    \n",
    "    entries = load_json(path)\n",
    "    entries.setdefault(edition, { })\n",
    "    \n",
    "    fetched_entries = await fetch_articles(\n",
    "        edition, articles, path, force_fetch, max_concurrent_tasks, max_tries, debug)\n",
    "    \n",
    "    entries[edition].update(fetched_entries.get(edition, { }))\n",
    "\n",
    "    if sort:\n",
    "        entries = { key: dict(sorted(value.items())) for key, value in sorted(entries.items()) }\n",
    "\n",
    "    save_json(path, entries)\n",
    "\n",
    "    return { key: value for values in entries.values() for key, value in values.items() if key in articles}"
   ]
  },
  {
   "cell_type": "code",
   "execution_count": 248,
   "metadata": {},
   "outputs": [],
   "source": [
    "import unicodedata\n",
    "import locale\n",
    "\n",
    "locale.setlocale(locale.LC_COLLATE, 'sv_SE.UTF-8')\n",
    "\n",
    "def segment_text(text):\n",
    "\n",
    "    segments = re.split(r\"\\s*(?:<br\\s*/?>)+\\s*\", text)\n",
    "\n",
    "    last_valid_segment = None\n",
    "    last_valid_word = None\n",
    "    valid_segments = {}\n",
    "\n",
    "    for segment in segments:\n",
    "        # segment = unicodedata.normalize('NFC', segment)\n",
    "        clean_segment = re.sub(r\"<.*?>\", '', segment).strip().lower()\n",
    "\n",
    "        try:\n",
    "            first_word = re.match(r\"\\b(\\w[\\w']*)\", clean_segment).group(0)  # Match the first word\n",
    "            first_word_uml = re.sub(r'ii', 'ü', first_word)\n",
    "        except:\n",
    "            first_word = first_word_uml = ''\n",
    "\n",
    "        if last_valid_segment:\n",
    "\n",
    "            if (last_valid_word < first_word or last_valid_word < first_word_uml\n",
    "                and (re.match(r\"[\\w'-]+[\\s]*[.,\\(\\[]\", clean_segment))):\n",
    "                valid_segments[last_valid_word] = last_valid_segment\n",
    "                last_valid_segment = clean_segment\n",
    "                last_valid_word = first_word\n",
    "                #print(\"NEW -\", \"HEAD:\", first_word, \"SEGMENT:\", clean_segment)\n",
    "\n",
    "            else:\n",
    "                last_valid_segment += '\\n' + clean_segment\n",
    "                #print(\"OLD -\", \"HEAD:\", first_word, \"SEGMENT:\", clean_segment)\n",
    "        else:\n",
    "            #print(\"NEW -\", \"HEAD:\", first_word, \"SEGMENT:\", clean_segment)\n",
    "            last_valid_segment = clean_segment\n",
    "            last_valid_word = first_word\n",
    "\n",
    "    valid_segments[last_valid_word] = last_valid_segment\n",
    "    \n",
    "    return valid_segments\n",
    "\n",
    "async def load_segments(\n",
    "    edition, articles, articles_path='articles', segments_path='segments',\n",
    "    force_fetch=False, max_concurrent_tasks=10, sort=False,\n",
    "    max_tries=5, force_segmentation=False, debug=False):\n",
    "    \n",
    "    entries = load_json(segments_path)  \n",
    "    entries.setdefault(edition, { })\n",
    "    \n",
    "    segment_articles = articles if force_segmentation else find_missing_articles(edition, articles, segments_path)\n",
    "\n",
    "    article_entries = (await load_articles(\n",
    "        edition, segment_articles, articles_path, force_fetch, max_concurrent_tasks, sort, max_tries, debug))\n",
    " \n",
    "    for article in segment_articles:\n",
    "        text = article_entries[article]['text']\n",
    "        \n",
    "        entries[edition][article] = [\n",
    "            {\n",
    "                'head': head,\n",
    "                'segment': segment,\n",
    "                'label': 'Other'\n",
    "            } for head, segment in segment_text(text).items()\n",
    "        ]\n",
    "            \n",
    "    if sort:\n",
    "        entries = { key: dict(sorted(value.items())) for key, value in sorted(entries.items()) } \n",
    "\n",
    "    save_json(segments_path, entries)\n",
    "\n",
    "    return { key: value for values in entries.values() for key, value in values.items() if key in articles}"
   ]
  },
  {
   "cell_type": "code",
   "execution_count": 252,
   "metadata": {},
   "outputs": [],
   "source": [
    "edition = 2\n",
    "articles = range(1, 1001)\n",
    "\n",
    "article_entries = await load_articles(edition, articles, sort=True)\n",
    "#segment_entries = await load_segments(edition, articles, sort=True, force_segmentation=True)"
   ]
  },
  {
   "cell_type": "code",
   "execution_count": 250,
   "metadata": {},
   "outputs": [
    {
     "data": {
      "text/plain": [
       "{'html': '<!DOCTYPE html><html lang=\"en\"><head><meta charset=\"utf-8\"><meta http-equiv=\"X-UA-Compatible\" content=\"IE=edge\"><meta name=\"viewport\" content=\"width=device-width,initial-scale=1\"><script src=\"/scanned1.js\"></script><script src=\"/scanned2.js\"></script><link rel=\"icon\" href=\"/favicon.ico\"><title>Nordisk familjebok</title><link href=\"/css/article.9b415184.css\" rel=\"prefetch\"><link href=\"/js/article.8f692e99.js\" rel=\"prefetch\"><link href=\"/css/app.f88a90c6.css\" rel=\"preload\" as=\"style\"><link href=\"/css/chunk-vendors.42603ac5.css\" rel=\"preload\" as=\"style\"><link href=\"/js/app.d051af76.js\" rel=\"preload\" as=\"script\"><link href=\"/js/chunk-vendors.0a3c5501.js\" rel=\"preload\" as=\"script\"><link href=\"/css/chunk-vendors.42603ac5.css\" rel=\"stylesheet\"><link href=\"/css/app.f88a90c6.css\" rel=\"stylesheet\"><link rel=\"stylesheet\" type=\"text/css\" href=\"/css/article.9b415184.css\"><script charset=\"utf-8\" src=\"/js/article.8f692e99.js\"></script></head><body class=\"cdh-body\"><noscript>We\\'re sorry but this site doesn\\'t work properly without JavaScript enabled. Please enable it to continue.</noscript><div id=\"app\" class=\"\"><div class=\"container\" id=\"main\"><div data-v-201e0e04=\"\" id=\"brand\"><div data-v-201e0e04=\"\" id=\"gu-logo-bg\"><div data-v-201e0e04=\"\" id=\"gu-logo\"></div></div><div data-v-201e0e04=\"\" class=\"brand-content\"><div data-v-201e0e04=\"\" class=\"cdh-logo\">\\n  Centre<br><span class=\"cdh-logo-cursive\">for </span>Digital\\n  <br>Humanities\\n</div></div></div><div data-v-5ad7308b=\"\"><div data-v-5ad7308b=\"\" class=\"row\"><a data-v-5ad7308b=\"\" href=\"/\" class=\"router-link-active\"><div data-v-5ad7308b=\"\" class=\"button-link\"><div class=\"button-icon button-icon-back\"></div><div class=\"button-label\">Sök</div></div></a></div><h1 data-v-5ad7308b=\"\">Adalkona</h1><section data-v-e59a8e02=\"\" data-v-5ad7308b=\"\" class=\"article-pane\"><div data-v-5ad7308b=\"\" class=\"pane-content article-pane-text\" data-v-e59a8e02=\"\"><div class=\"pane-title\">\\n    Andra utgåvan (1904-1926)\\n    </div><article data-v-5ad7308b=\"\"><b>Adalkona,</b> Dan. <span>Adelkona</span>, är i de gamla svenska och danska lagarne uttrycket för \"äkta hustru\".</article></div><div data-v-5ad7308b=\"\" data-v-e59a8e02=\"\" class=\"article-pane-side\"><div data-v-5ad7308b=\"\" class=\"pane-content\" data-v-e59a8e02=\"\"><div class=\"pane-title\">\\n    \\n    &nbsp;</div><div data-v-5ad7308b=\"\" class=\"row\"><p data-v-5ad7308b=\"\" class=\"citeas\">Nordisk Familjebok, utgåva 2, volym 1. A–Armati (1904) ss. 125–126</p><a data-v-5ad7308b=\"\" href=\"http://runeberg.org/nfba/0075.html\" target=\"_blank\"><div data-v-09c7bd33=\"\" data-v-5ad7308b=\"\" class=\"go-link\">Läs på runeberg.org<div data-v-09c7bd33=\"\" class=\"icon\"></div></div></a></div><p data-v-5ad7308b=\"\" class=\"help-label\">\\n          Sidangivelserna är ungefärliga. Kontrollera gärna mot\\n          faksimilbilderna.\\n        </p><div data-v-5ad7308b=\"\" class=\"button-link\"><div class=\"button-icon button-icon-download\"></div><div class=\"button-label\">Ladda ner ren text</div></div></div><div data-v-5ad7308b=\"\" class=\"pane-content\" data-v-e59a8e02=\"\"><!----><h3 data-v-5ad7308b=\"\">Faksimiler</h3><div data-v-5ad7308b=\"\" class=\"facsimiles\"><a data-v-5ad7308b=\"\" href=\"https://data.dh.gu.se/norfam/fac/nfba/0075.1.tif\" target=\"_blank\" class=\"facsimiles-item\"><img data-v-5ad7308b=\"\" src=\"https://img.dh.gu.se/norfam/fac/pyr/nfba/0075.1.tif/full/,700/0/default.jpg\" alt=\"Faksimil nfba/0075\"></a></div></div></div></section></div></div><div class=\"modal-container\" style=\"display: none;\"><div class=\"modal\"><div><div class=\"article-title\">Instruktioner</div><div class=\"article\"><p>\\n      Ange ett eller flera <strong>sökord</strong> i sökfältet. Om flera ord\\n      anges sker en sökning på varje ord för sig. I det förvalda sökläget\\n      <em>Fulltextsökning</em> sker sökning på ord som förekommer inom alla\\n      uppslagstexterna. Välj <em>Uppslagsord</em> för att endast söka inom ett\\n      specifikt <em>uppslagsord</em>.\\n    </p><p><strong>Sökresultaten</strong> visas sida vid sida om webbläsarfönstret\\n      är tillräckligt stort. I annat fall visas en utgåva i taget, med en\\n      knapp för att växla mellan dem. Notera att ett flertal uppslagsord har\\n      flera ingångar, dels för att särskilja olika betydelser men också för\\n      att korrigeringar i supplementband räknas upp separat.\\n    </p><p>\\n      Genom att klicka på ett sökresultat kommer du till det relevanta\\n      uppslagsordet i sin helhet. Texten ackompanjeras av\\n      <strong>sidhänvisningar</strong>, <strong>faksimiler</strong> från det\\n      tryckta verket och ren text för nedladdning. Sidhänvisningarna och\\n      faksimilsammanställningarna skiljer tyvärr inte mellan de olika\\n      ingångarna för ett givet uppslagsord.\\n    </p><p>\\n      Utöver sökresultaten visas för varje sökord till vänster om resultaten\\n      en lista över <strong>relaterade ord</strong>. Det är en sammanställning\\n      som utgår från hela respektive utgåva som en separat textkorpus för att\\n      hitta ord som är relaterade till sökordet. Siffrorna anger de relaterade\\n      ordens likheten i en Word2Vec-modell, vilket innebär att ord betraktas\\n      som lika om de förekommer i liknande lexikala sammanhang.\\n    </p></div></div></div></div><div class=\"modal-container\" style=\"display: none;\"><div class=\"modal\"><div data-v-16917e3c=\"\"><div data-v-16917e3c=\"\" class=\"article-title\">Om utgåvorna</div><div data-v-16917e3c=\"\" class=\"article\"><p data-v-16917e3c=\"\">\\n      Detta digitala verktyg bygger på det svenska uppslagsverket Nordisk\\n      familjebok vilket utgavs i 5 utgåvor 1876–1993 samt Projekt Runebergs\\n      digitala webbversion av dess två första utgåvor som tillgängliggjordes\\n      löpande 2000–2003 på\\n      <a data-v-16917e3c=\"\" href=\"http://runeberg.org/nf\">http://runeberg.org/nf</a>.\\n    </p><p data-v-16917e3c=\"\">\\n      Konversationslexikonet och realencyklopedin Nordisk familjebok var när\\n      det började att utkomma 1875 den första nordiska uppslagsboken av modern\\n      typ. Dess första upplaga ibland benämnd ‘1800-talsutgåvan’ utgavs\\n      1876–1899 i 20 band varav två supplementband. Den pryddes av Idun som\\n      var ungdomens gudinna och skaldekonstens maka i den nordiska mytologin\\n      och enligt familjebokens artikel “det andliga lifvets föryngrande makt”.\\n      Uppslagsverkets redaktörer var Nils Linder, John Rosén, Theodor Westrin,\\n      Bror Ferdinand Olsson och Bernhard Meijer.\\n    </p><p data-v-16917e3c=\"\">\\n      Den reviderade och utvidgade andra utgåvan utkom 1906–1926 med 38 band\\n      varav fyra supplementband och är med sina 182.000 uppslagsord Sveriges\\n      mest omfattande tryckta uppslagsverk. Då uppslagsverket pryddes av en\\n      uggla på titelsida och bokrygg benämns den vanligtvis ‘Uggleutgåvan’.\\n      Redaktörer var Theodor Westrin och Bernhard Meijer med en\\n      redaktionskommitté bestående av Vilhelm Leche, Johan Fredrik Nyström och\\n      Karl Warburg.\\n    </p><p data-v-16917e3c=\"\">\\n      Nordisk familjebok fick under det nya millenniet enligt bokhistorikern\\n      Maria Simonsen “en renæssance og derigenom nye anvendelsemåder”.\\n      Anledningen till detta var den elektroniska utgåva av Nordisk\\n      familjeboks två första utgåvor som publicerats av Projekt Runeberg under\\n      ledning av Lars Aronsson. Med start 1998 digitiserades Nordisk\\n      familjeboks två första utgåvors 45.000 sidor och 300.000 uppslagsord\\n      vilket 2000–2003 gjordes öppet och fritt tillgängliga på internet och\\n      därefter i ett medborgarforskningsprojekt genomgick frivillig\\n      korrekturläsning med bistånd av ett stort antal frivilliga\\n      korrekturläsare fram till 18 december 2020.\\n    </p><h3 data-v-16917e3c=\"\">\\n      Källor\\n    </h3><div data-v-16917e3c=\"\" class=\"sources\"><div data-v-16917e3c=\"\">Projekt Runeberg, http://runeberg.org</div><div data-v-16917e3c=\"\">\\n        Maria Simonsen, Den skandinaviske encyklopædi (Makadam, 2016).\\n      </div><div data-v-16917e3c=\"\">\\n        Th. W. “Idun”, Nordisk familjebok, bd 7, (1884), 424–425.\\n        http://runeberg.org/nfag/0219.html\\n      </div></div></div></div></div></div><div class=\"modal-container\" style=\"display: none;\"><div class=\"modal\"><div><div class=\"article-title\">Om verktyget</div><div class=\"article\"><p>\\n      Det digitala verktyget Nordisk familjebok är framtaget och\\n      tillgängliggjort av Centrum för Digital Humaniora vid Göteborgs\\n      Universitet med hjälp av Data as Impact Lab vid Högskolan i Borås.\\n      Syftet är att erbjuda en öppen resurs som tillgängliggör för humanistisk\\n      och datadriven forskning och utbildning de två första upplagorna av\\n      Nordisk familjebok i form av en sökbar digital databas med ett visuellt\\n      gränssnitt som inbjuder till utforskning. Verktygets initiala\\n      utgångspunkt har varit de digitala korpus av sidtext och faksimilbilder\\n      av Nordisk familjeboks två första utgåvor som tagits fram och\\n      tillgängliggjorts av Projekt Runeberg på\\n      <a href=\"http://runeberg.org/nf\">http://runeberg.org/nf</a>.\\n    </p><p>\\n      Uppslagsordshänvisningarna för den i verktyget ingående första\\n      1800-talsutgåvan av Nordisk familjebok har genomgått korrekturläsning\\n      och betraktas som i stort sett om ej fullt funktionella.\\n      Uppslagsordshänvisningarna för den andra Uggleutgåvan har ännu ej\\n      genomgått korrekturläsning vilket kan innebära att ingående uppslagsord\\n      ibland ej upptäcks i sökningar. Verktyget kommer att färdigställas,\\n      förfinas och kompletteras med korrekturläsning och ytterligare\\n      funktionaliteter i publicering av tillkommande versioner.\\n    </p><p>\\n      Verktygets föreliggande version (1.0) har tillgängliggjorts i sin\\n      preliminära form trots avsaknad av full funktionalitet då den kan ge en\\n      fruktbar användning för intresserade forskare, studenter och allmänhet\\n      samt att en bredare tillgängliggörande ska kunna bidra till dess vidare\\n      utveckling med återkoppling från användare om verktygets brister och\\n      förtjänster. VI har inte kapacitet att utom i undantagsfall korrigera\\n      OCR-felläsningar av textinnehållet men vi är mycket tacksamma för\\n      synpunkter på fallerande funktionaliteter och önskvärda förbättringar\\n      vilka kan skickas till gridh@gu.se.\\n    </p><p>\\n      De följande individerna har direkt medverkat i tillkomsten av verktygets\\n      första preliminära version (1.0): <strong>Mats Fridlund</strong>,\\n      biträdande föreståndare för GRIDH som initiativtagare och\\n      huvudprojektledare för verktygets framtagande och tillgängliggörande;\\n      <strong>Johan Eklund</strong>, forskare på Data as Impact Lab ansvarig\\n      för utveckling av verktygets datavetenskapliga arkitektur och\\n      språkteknologiska funktionalitet; <strong>Cecilia Lindhé</strong>,\\n      föreståndare för GRIDH och ansvarig för verktygets finansiering och\\n      strategiska implementering i GRIDH:s e-infrastruktur;\\n      <strong>Arild Matsson</strong>, forskningsingenjör vid GRIDH och\\n      Språkbanken Text ansvarig för verktygets implementering, integrering och\\n      tillgängliggörande som del av GRIDH:s e-infrastruktur;\\n      <strong>Gustaf Nelhans</strong>, föreståndare för Data as Impact Lab och\\n      ansvarig för framtagandet av verktygets första version;\\n      <strong>Rich Potter</strong>, forskningsingenjör vid Institutionen för\\n      historiska studier vid Göteborgs universitet ansvarig för komplettering,\\n      modifiering och korrekturläsning av verktygets digitiserade korpus av\\n      Nordisk familjeboks två första upplagor;\\n      <strong>Jonathan Westin</strong>, forskningskoordinator vid GRIDH\\n      ansvarig för utformning av verktygets grafiska gränssnitt.\\n    </p><p>\\n      Förutom ovanstående vill vi tacka följande individer och institutioner\\n      för dess bidrag av inspiration, råd och resurser: Lars Aronsson, Lars\\n      Borin, Love Börjeson, Dick Claésson, Markus Forsberg, Institutionen för\\n      litteratur, idéhistoria och religion, KB-labb, Mats Malm, Martin\\n      Malmsten, Litteraturbanken, Leif-Jöran Olsson, Projekt Runeberg, Victor\\n      Wåhlstrand Skärström, Språkbanken Text, Nina Tahmasebi, Johan Åhlfeldt,\\n      och Maria Öhrman.\\n    </p><p>\\n      Källkod för verktyget finns på GitHub:\\n      <a href=\"https://github.com/CDH-DevTeam/norfam-backend\">norfam-backend</a>,\\n      <a href=\"https://github.com/CDH-DevTeam/norfam-frontend\">norfam-frontend</a>.\\n    </p></div></div></div></div><footer data-v-78a2a392=\"\"><div data-v-78a2a392=\"\" class=\"cdh-logo\">\\n  Centre<br><span class=\"cdh-logo-cursive\">for </span>Digital\\n  <br>Humanities\\n</div></footer></div><script src=\"/js/chunk-vendors.0a3c5501.js\"></script><script src=\"/js/app.d051af76.js\"></script></body></html>',\n",
       " 'title': 'Adalkona',\n",
       " 'text': '<b>Adalkona,</b> Dan. <span>Adelkona</span>, är i de gamla svenska och danska lagarne uttrycket för \"äkta hustru\".'}"
      ]
     },
     "execution_count": 250,
     "metadata": {},
     "output_type": "execute_result"
    }
   ],
   "source": [
    "article_entries[500]"
   ]
  },
  {
   "cell_type": "code",
   "execution_count": 251,
   "metadata": {},
   "outputs": [
    {
     "data": {
      "text/plain": [
       "[{'head': 'a',\n",
       "  'segment': 'a är den första bokstafven i alla indoeuropeiska språks alfabet utom i den vanliga runföljden, der det innehar det tionde rummet. det är tillika det renaste och klaraste af alla språkljud och har på ljudskalan sin plats mellan i och u, med hvilka vokaler det omvexlande förekommer dels i olika språk af samma stam i beteckningar af lika eller närstående begrepp, t.ex. sanskr. agni, lat. ignis, littau. ugnis (hvilka alla betyda eld), sv. ugn, dels i ett och samma språk vid ordböjning (finna, fann, funnen) eller ordbildning (bindel, band, bundt). svenskan eger ett kort och öppet a, t. ex. i grann, kall, samt ett långt och slutet, t. ex. i gran, kal. i de nyare språken och icke minst i vårt eget, särdeles i våra landskapsmål, visar a benägenhet att sjunka och fördunklas till mer eller mindre grumliga ä- (e-) eller å-ljud, t. ex. svärt för svart, värm för varm, ligge för ligga, å l. åv för af, sått för satt. dock är vårt modersmål ännu så rikt på rena och välljudande a, att det näst italienskan är det mest klangfulla och sångbara af europas språk.',\n",
       "  'label': 'Other'},\n",
       " {'head': 'ursprungligen',\n",
       "  'segment': 'ursprungligen var a äfven det musikaliska alfabetets första bokstaf. det var nämligen den djupaste för musikaliskt ändamål använda tonen ända till fram emot det 11:te århundradet, då en djupare ton g (gamma), tillkom, och först på 1500-talet hade tonsystemet erhållit den utveckling, att man på skalan nådde djupet af stora c, som då blef utgångspunkten för vårt nuvarande tonsystem, i hvilket a är det sjette steget på den normala durskalan (c dur). -- ♯ höjer a till aiss, ♭ sänker det till ass. -- a är äfven namnet på det nottecken, som utmärker tonen a, hvarvid a = kontra a; a = stora (grofva) a; a = lilla (ostrukna) a; ā = ettstrukna a; ¯ā = tvåstrukna a o. s. v. likaledes utgör a namnet på den sträng, tangent eller pipa, som angifver tonen a.\\nsåsom symboliskt tecken har a en vidsträckt användning och betyder då i allmänhet det första, det ursprungliga, det bestämda. så betecknar a på ett mynt, att det blifvit slaget på landets förnämsta myntningsort, t. ex. på ett franskt: paris, på ett preussiskt: berlin o. s. v. (om a på romerska mynt se nedanför). -- i lloyd’s register är a tecknet för ett fartyg af första klassen, hvarvid a1 betyder, att det derjämte har fullständig utrustning; i motsatt fall nyttjas tecknet a2. -- såsom gammalromerskt taltecken är a = 500 och ¯a = 5000. -- i algebran nyttjas a, likasom alfabetets närmast följande bokstäfver, till tecken för bekanta storheter, då deremot de obekanta betecknas med x, y och z. -- i logiken använder man bokstafven a för att i allmänhet beteckna ett föremål för tänkandet: ett ting, en egenskap. a = a är formeln för det s. k. tavtologiska omdömet, t. ex. en häst är en häst, hvarjämte a dessutom för korthetens skull brukas såsom tecken för ett universelt-affirmativt omdöme, t. ex. alla menniskor äro dödliga, i motsats till bokstafven e, som betecknar ett universelt-negativt omdöme, t. ex. intet djur är förnuftigt. -- slutligen ha vi att märka uttrycket ”a och o”, grek. α (alfa) och ω (omega) eller α och ω (den första och den sista bokstafven i det grekiska alfabetet), ett talesätt, som förekommer i joh. uppenb. 1: 8 och betyder ”begynnelsen och änden”, början och slutet, det första och det sista, allt i allom. snart öfvergick det att beteckna begreppet för den evige, den allomfattande, hvadan också αω nyttjades i den äldsta kristna konsten såsom kristi monogram.\\na förekommer, ensamt eller såsom begynnelsebokstaf, i en stor mängd förkortningar af, mestadels latinska, ord och talesätt.\\n1. på romerska mynt och inskrifter.\\na = augustus, a[uppochner] = augusta; aa = två kejsare (augusti), aa[uppochner] = två kejsarinnor; aaa = tre kejsare, aaa[uppochner] = tre kejsarinnor; aaaff = auro, argento, aeri flando, feriundo. (se triumvirer). såsom rom. förnamn är a = aulus; app. = appius.\\n2. i titlar och namn.\\na. b. = artium baccalaureus. a. b. = aurea bulla. a. c. = augustana confessio. ac. = academia. act. apost. = acta apostolorum. a. d. efter tyska titlar = ausser dienst, ur tjenst, sål. = sv. f.d. (före detta). adj. = adjunkt; äfven = adjutant. a. e. = archiepiscopus. aed. = aedilis. a. m. eller a. a. m. eller a. a. l. l. m. = artium magister eller artium liberalium magister. apok. = apokalypsis. a. r. = academiæ rector. a. r. a. = associate of the royal academy, medlem af akademien för de sköna konsterna i london. a. ss. = acta sanctorum.\\n3. i tidsbestämningar.\\na. eller a. eller an. eller ao = anno. a. a. c. eller a. a. c. n. = anno ante christum natum. a. a. u. c. = anno ab urbe condita. a. aer. vulg. = anno aérae vulgaris. a. c. = anno christi. a. chr. n. = ante christum natum. a. c. = anno currente eller anni currentis. a d. = a dato. a. d. = anno domini. a. d. n. j. chr. = anno domini nostri jesu christi. a. f. = anni futuri. a. h. = anno hegiræ. a. in. = anno ineunte. a. m. = anno mundi; äfven = ante meridiem. a m. c. = a mundo condito. a. o. c. = anno orbis conditi eller ab orbe condito. a. o. r. = anno orbis redempti. a. p. eller a. pr. = anni præsentis. a. p. eller a. præt. = anni præteriti. a. p. c. eller a. p. c. n. = anno post christum natum. a. p. r. c. = anno post romam conditam. a. præc. = anni præcedentis. a. pto = anno passato (ital.). a. r. = anno regni. a. r. s. = anno recuperatæ salutis. a. u. = anno urbis. a. u. c. = anno urbis conditæ eller ab urbe condita. a. u. s. = actum ut supra.\\n4. såsom kemiska tecken.\\naaa. = amalgama. acet. = acetum. acid. = acidum. aq. = aqua. ag. = argentum. al. = aluminium. as. = arsenicum. au. = aurum. (de fyra sistnämnda äro de kem. tecknen för silfrets, aluminiets, arsenikens och guldets atomvigter).\\n5. i musikaliska termer.\\nacc. eller accomp. = accompagnamento. accel. = accelerando. adg. = adagio. ad lib. = ad libitum. affett. = affettuoso. allg tto  eller all:tto = allegretto. allo eller all:o = allegro. allo mod. = allegro moderato all\\' ot. = all\\' ottava. andno eller and:o = andantino. and te = andante. anim. = animoso. arc. = coll\\' arco. arpio = arpeggio.\\n6. i språkvetenskapliga termer.\\na. = aktiv. abl. = ablativ. ack. = ackusativ. adj. = adjektiv. adv. = adverb. ags. eller angls. eller a. s. = anglosaxiska anom. = anomal. appell. = appellativ. art. = artikel. augm. = augment.\\n7. på vexlar, juridiska handlingar, recept m. m.\\na. eller acc. på vexlar = accepterad. a. i assuranshandlingar = assurerad. a. i franska kursuppgifter = argent (klingande mynt) i motsats till p. = papier (pappersmynt). a. a. = ad acta. ad mand. = ad mandatum. aa eller aa på recept = ana. add. på recept = adde eller addatur. ax. på recept = axungia. a. på rucktaflan i fickur = avancer, i motsats till r. = retarder.\\n8. a. e. i. o. u., flere österrikiska kejsares valspråk, som uttydes med bland annat: austriæ est imperium orbis universi eller austria erit in orbe ultima. se austria. såsom den sachsiske hertigen johan fredrik ii:s valspråk har det blifvit tolkadt med: \"allein evangelium ist ohn\\' verlust.\"\\n9. slutligen må anföras följande vanliga förkortningar:\\nadr. = adress. afs. = afseende. ang. = angående; äfven = angeläget (på bref). anm. = anmärkning. a. st. = anförda stället. a. t. a. (på visitkort) = att taga afsked.\\n-\\n',\n",
       "  'label': 'Other'}]"
      ]
     },
     "execution_count": 251,
     "metadata": {},
     "output_type": "execute_result"
    }
   ],
   "source": [
    "segment_entries[1]"
   ]
  },
  {
   "cell_type": "code",
   "execution_count": null,
   "metadata": {},
   "outputs": [
    {
     "name": "stdout",
     "output_type": "stream",
     "text": [
      "Inputs:\n",
      "\n",
      "1. Label as location\n",
      "2. Label as other\n",
      "3. Go back one step\n",
      "4. Save\n",
      "5. Exit\n",
      "\n",
      "1/200:\n",
      "Text: <b>Apprehension</b> (Lat. apprehénsio, af <i>apprehéndere</i>), <i>jur.,</i> den handling, hvarigenom en person tager en sak i besittning.\n",
      "Label: Undefined\n",
      "\n",
      "You chose 'Label as location'\n",
      "\n",
      "2/200:\n",
      "Text: Atakamit, ett kopparmineral, bestående av ba-sisk kopparklorid, förekommer bl. a. i Bolivia och Chile.\n",
      "Label: Undefined\n",
      "\n",
      "You chose 'Exit'\n",
      "\n"
     ]
    }
   ],
   "source": [
    "import pandas as pd\n",
    "import keyboard\n",
    "import time\n",
    "\n",
    "idx2cat = {\n",
    "    0: 'Undefined',\n",
    "    1: 'Person',\n",
    "    2: 'Location',\n",
    "    3: 'Other'\n",
    "}\n",
    "\n",
    "#splits = {'train': 'train.json', 'validation': 'validation.json'}\n",
    "#df = pd.read_json(\"hf://datasets/pnugues/nf_1876/\" + splits[\"train\"])\n",
    "df = pd.read_csv('annotations.csv', index_col=0)\n",
    "\n",
    "i = 0\n",
    "last_i = -1\n",
    "\n",
    "filtered_df = df[df['label'] == 0].index\n",
    "\n",
    "exit = False\n",
    "\n",
    "actions = {\n",
    "    '1': 'Label as location',\n",
    "    '2': 'Label as other',\n",
    "    '3': 'Go back one step',\n",
    "    '4': 'Save',\n",
    "    '5': 'Exit'\n",
    "}\n",
    "\n",
    "\n",
    "print('Inputs:\\n')\n",
    "\n",
    "for key, action in actions.items():\n",
    "    print(f'{key}. {action}')\n",
    "\n",
    "print()\n",
    "\n",
    "while (True):\n",
    "    \n",
    "    item = df.loc[filtered_df[i]]\n",
    "    \n",
    "    text = item['text']\n",
    "    label = item['label']\n",
    "    \n",
    "    if last_i != i:\n",
    "        print(f'{i+1}/{len(filtered_df)}:\\nText: {text}\\nLabel: {idx2cat[label]}\\n')\n",
    "\n",
    "    last_i = i\n",
    "    \n",
    "    key_press = keyboard.read_key()\n",
    "\n",
    "    if key_press in actions.keys():\n",
    "        print(f'You chose \\'{actions[key_press]}\\'\\n')\n",
    "    \n",
    "    if key_press in { '1', '2'}:\n",
    "        df.loc[filtered_df[i], 'label'] = int(key_press) + 1\n",
    "        i = min(i + 1, len(df) - 1)\n",
    "        \n",
    "    if key_press == '3':\n",
    "        i = max(i - 1, 0)\n",
    "    \n",
    "    if key_press == '4':\n",
    "        df.to_csv('annotations_edited.csv', index=False)\n",
    "        \n",
    "    if key_press == \"5\":\n",
    "        break\n",
    "    \n",
    "    time.sleep(0.2)"
   ]
  },
  {
   "cell_type": "code",
   "execution_count": 242,
   "metadata": {},
   "outputs": [
    {
     "data": {
      "text/plain": [
       "DatasetDict({\n",
       "    train: Dataset({\n",
       "        features: ['label', 'text'],\n",
       "        num_rows: 313\n",
       "    })\n",
       "    test: Dataset({\n",
       "        features: ['label', 'text'],\n",
       "        num_rows: 79\n",
       "    })\n",
       "})"
      ]
     },
     "execution_count": 242,
     "metadata": {},
     "output_type": "execute_result"
    }
   ],
   "source": [
    "from datasets import Dataset\n",
    "df = pd.read_csv('annotations_edited.csv', index_col=0)\n",
    "\n",
    "segments = df[df['label'] != 0]\n",
    "\n",
    "segments.loc[:, 'label'] = segments['label'] - 1\n",
    "\n",
    "segments = Dataset.from_pandas(segments)\n",
    "segments = segments.train_test_split(test_size=0.2)\n",
    "segments"
   ]
  },
  {
   "cell_type": "code",
   "execution_count": null,
   "metadata": {},
   "outputs": [],
   "source": [
    "from transformers import AutoTokenizer\n",
    "\n",
    "tokenizer = AutoTokenizer.from_pretrained('KB/bert-base-swedish-cased')\n",
    "\n",
    "def tokenize(batch):\n",
    "    return tokenizer(batch[\"text\"], padding=True, truncation=True)"
   ]
  },
  {
   "cell_type": "code",
   "execution_count": 202,
   "metadata": {},
   "outputs": [
    {
     "data": {
      "application/vnd.jupyter.widget-view+json": {
       "model_id": "9bc1a8c62bc44ce98134f0712f7215d7",
       "version_major": 2,
       "version_minor": 0
      },
      "text/plain": [
       "Map:   0%|          | 0/313 [00:00<?, ? examples/s]"
      ]
     },
     "metadata": {},
     "output_type": "display_data"
    },
    {
     "data": {
      "application/vnd.jupyter.widget-view+json": {
       "model_id": "ffc17ed5f27a4fb6b25556e1a12bbb00",
       "version_major": 2,
       "version_minor": 0
      },
      "text/plain": [
       "Map:   0%|          | 0/79 [00:00<?, ? examples/s]"
      ]
     },
     "metadata": {},
     "output_type": "display_data"
    }
   ],
   "source": [
    "segments_encoded = segments.map(tokenize, batched=True, batch_size=None)"
   ]
  },
  {
   "cell_type": "code",
   "execution_count": 203,
   "metadata": {},
   "outputs": [],
   "source": [
    "from transformers import AutoModelForSequenceClassification\n",
    "\n",
    "num_labels = 3\n",
    "\n",
    "model = (AutoModelForSequenceClassification\n",
    "         .from_pretrained('KB/bert-base-swedish-cased', num_labels=num_labels))"
   ]
  },
  {
   "cell_type": "code",
   "execution_count": 204,
   "metadata": {},
   "outputs": [],
   "source": [
    "from sklearn.metrics import accuracy_score, f1_score\n",
    "\n",
    "def compute_metrics(pred):\n",
    "    labels = pred.label_ids\n",
    "    preds = pred.predictions.argmax(-1)\n",
    "    f1 = f1_score(labels, preds, average=\"weighted\")\n",
    "    acc = accuracy_score(labels, preds)\n",
    "    return {\"accuracy\": acc, \"f1\": f1}"
   ]
  },
  {
   "cell_type": "code",
   "execution_count": null,
   "metadata": {},
   "outputs": [
    {
     "name": "stderr",
     "output_type": "stream",
     "text": [
      "C:\\Users\\kalls\\AppData\\Local\\Temp\\ipykernel_17096\\3339256952.py:18: FutureWarning: `tokenizer` is deprecated and will be removed in version 5.0.0 for `Trainer.__init__`. Use `processing_class` instead.\n",
      "  trainer = Trainer(model=model, args=training_args,\n"
     ]
    },
    {
     "data": {
      "application/vnd.jupyter.widget-view+json": {
       "model_id": "2a0e447028364319b81ad2e74b20d3f7",
       "version_major": 2,
       "version_minor": 0
      },
      "text/plain": [
       "  0%|          | 0/40 [00:00<?, ?it/s]"
      ]
     },
     "metadata": {},
     "output_type": "display_data"
    },
    {
     "data": {
      "application/vnd.jupyter.widget-view+json": {
       "model_id": "fb4e2c9f2ac34eca84feca01f37205b8",
       "version_major": 2,
       "version_minor": 0
      },
      "text/plain": [
       "  0%|          | 0/5 [00:00<?, ?it/s]"
      ]
     },
     "metadata": {},
     "output_type": "display_data"
    },
    {
     "name": "stdout",
     "output_type": "stream",
     "text": [
      "{'eval_loss': 0.14425472915172577, 'eval_accuracy': 0.9620253164556962, 'eval_f1': 0.9604753293722552, 'eval_runtime': 4.7157, 'eval_samples_per_second': 16.753, 'eval_steps_per_second': 1.06, 'epoch': 1.0}\n"
     ]
    },
    {
     "data": {
      "application/vnd.jupyter.widget-view+json": {
       "model_id": "e907dbcc91a84b74ad57552bb0f97de0",
       "version_major": 2,
       "version_minor": 0
      },
      "text/plain": [
       "  0%|          | 0/5 [00:00<?, ?it/s]"
      ]
     },
     "metadata": {},
     "output_type": "display_data"
    },
    {
     "name": "stdout",
     "output_type": "stream",
     "text": [
      "{'eval_loss': 0.1060827225446701, 'eval_accuracy': 0.9873417721518988, 'eval_f1': 0.9872012552840197, 'eval_runtime': 4.7429, 'eval_samples_per_second': 16.657, 'eval_steps_per_second': 1.054, 'epoch': 2.0}\n",
      "{'train_runtime': 193.527, 'train_samples_per_second': 3.235, 'train_steps_per_second': 0.207, 'train_loss': 0.3035546064376831, 'epoch': 2.0}\n"
     ]
    },
    {
     "data": {
      "text/plain": [
       "TrainOutput(global_step=40, training_loss=0.3035546064376831, metrics={'train_runtime': 193.527, 'train_samples_per_second': 3.235, 'train_steps_per_second': 0.207, 'total_flos': 28631056553316.0, 'train_loss': 0.3035546064376831, 'epoch': 2.0})"
      ]
     },
     "execution_count": 217,
     "metadata": {},
     "output_type": "execute_result"
    }
   ],
   "source": [
    "from transformers import Trainer, TrainingArguments\n",
    "\n",
    "batch_size = 16\n",
    "logging_steps = 1# len(segments_encoded) // batch_size\n",
    "model_name = f\"bert-finetuned-segments\"\n",
    "training_args = TrainingArguments(output_dir=model_name,\n",
    "                                  num_train_epochs=2,\n",
    "                                  learning_rate=2e-5,\n",
    "                                  per_device_train_batch_size=batch_size,\n",
    "                                  per_device_eval_batch_size=batch_size,\n",
    "                                  weight_decay=0.01,\n",
    "                                  evaluation_strategy=\"epoch\",\n",
    "                                  disable_tqdm=False,\n",
    "                                  log_level=\"error\")\n",
    "\n",
    "from transformers import Trainer\n",
    "\n",
    "trainer = Trainer(model=model, args=training_args, \n",
    "                  compute_metrics=compute_metrics,\n",
    "                  train_dataset=segments_encoded[\"train\"],\n",
    "                  eval_dataset=segments_encoded[\"test\"],\n",
    "                  tokenizer=tokenizer)\n",
    "trainer.train()"
   ]
  },
  {
   "cell_type": "code",
   "execution_count": 223,
   "metadata": {},
   "outputs": [
    {
     "data": {
      "application/vnd.jupyter.widget-view+json": {
       "model_id": "350ffa9e7d19452fb81f55a2aa07ea3d",
       "version_major": 2,
       "version_minor": 0
      },
      "text/plain": [
       "  0%|          | 0/5 [00:00<?, ?it/s]"
      ]
     },
     "metadata": {},
     "output_type": "display_data"
    }
   ],
   "source": [
    "preds_output = trainer.predict(segments_encoded[\"test\"])"
   ]
  },
  {
   "cell_type": "code",
   "execution_count": 244,
   "metadata": {},
   "outputs": [
    {
     "data": {
      "image/png": "[encoded data removed]",
      "text/plain": [
       "<Figure size 600x600 with 1 Axes>"
      ]
     },
     "metadata": {},
     "output_type": "display_data"
    }
   ],
   "source": [
    "import numpy as np\n",
    "import matplotlib.pyplot as plt\n",
    "\n",
    "from sklearn.metrics import ConfusionMatrixDisplay, confusion_matrix\n",
    "\n",
    "labels = ['Person', 'Location', 'Other']\n",
    "\n",
    "def plot_confusion_matrix(y_preds, y_true, labels):\n",
    "    cm = confusion_matrix(y_true, y_preds, normalize=\"true\")\n",
    "    fig, ax = plt.subplots(figsize=(6, 6))\n",
    "    disp = ConfusionMatrixDisplay(confusion_matrix=cm, display_labels=labels)\n",
    "    disp.plot(cmap=\"Blues\", values_format=\".2f\", ax=ax, colorbar=False)\n",
    "    plt.title(\"Normalized confusion matrix\")\n",
    "    plt.show()\n",
    "\n",
    "y_preds = np.argmax(preds_output.predictions, axis=1)\n",
    "y_valid = np.array(segments_encoded[\"test\"][\"label\"])\n",
    "\n",
    "plot_confusion_matrix(y_preds, y_valid, labels)"
   ]
  }
 ],
 "metadata": {
  "kernelspec": {
   "display_name": "Python 3",
   "language": "python",
   "name": "python3"
  },
  "language_info": {
   "codemirror_mode": {
    "name": "ipython",
    "version": 3
   },
   "file_extension": ".py",
   "mimetype": "text/x-python",
   "name": "python",
   "nbconvert_exporter": "python",
   "pygments_lexer": "ipython3",
   "version": "3.11.9"
  }
 },
 "nbformat": 4,
 "nbformat_minor": 2
}
